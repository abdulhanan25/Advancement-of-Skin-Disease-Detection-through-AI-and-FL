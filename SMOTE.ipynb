{
  "nbformat": 4,
  "nbformat_minor": 0,
  "metadata": {
    "colab": {
      "provenance": []
    },
    "kernelspec": {
      "name": "python3",
      "display_name": "Python 3"
    },
    "language_info": {
      "name": "python"
    }
  },
  "cells": [
    {
      "cell_type": "code",
      "source": [
        "from google.colab import drive\n",
        "drive.mount('/content/gdrive')"
      ],
      "metadata": {
        "colab": {
          "base_uri": "https://localhost:8080/"
        },
        "id": "J2Z06jYVtqBx",
        "outputId": "ec8fefbd-8e7c-4f71-bf9d-53b63d86dd13"
      },
      "execution_count": null,
      "outputs": [
        {
          "output_type": "stream",
          "name": "stdout",
          "text": [
            "Drive already mounted at /content/gdrive; to attempt to forcibly remount, call drive.mount(\"/content/gdrive\", force_remount=True).\n"
          ]
        }
      ]
    },
    {
      "cell_type": "markdown",
      "source": [
        "**Smote**"
      ],
      "metadata": {
        "id": "5MJLflXUQlUV"
      }
    },
    {
      "cell_type": "code",
      "execution_count": null,
      "metadata": {
        "colab": {
          "base_uri": "https://localhost:8080/"
        },
        "id": "NjyXqUyFq_1V",
        "outputId": "66099fb0-3a6a-4b71-eb41-521553bae879"
      },
      "outputs": [
        {
          "output_type": "stream",
          "name": "stdout",
          "text": [
            "Drive already mounted at /content/gdrive; to attempt to forcibly remount, call drive.mount(\"/content/gdrive\", force_remount=True).\n"
          ]
        }
      ],
      "source": [
        "from google.colab import drive\n",
        "drive.mount('/content/gdrive')\n",
        "\n",
        "import os\n",
        "import numpy as np\n",
        "from keras.preprocessing.image import ImageDataGenerator, img_to_array, load_img\n",
        "from PIL import Image\n",
        "from imblearn.over_sampling import SMOTE\n",
        "import collections\n",
        "\n",
        "# Setup Google Drive path\n",
        "base_path = \"/content/gdrive/MyDrive/Classes\"\n",
        "\n",
        "# Load images and convert to a suitable numeric format\n",
        "def load_images(data_path):\n",
        "    images = []\n",
        "    labels = []\n",
        "    label_names = os.listdir(data_path)  # list directories for each class\n",
        "    label_dict = {name: i for i, name in enumerate(label_names)}  # Map labels to integer indices\n",
        "    for label in label_names:\n",
        "        class_folder = os.path.join(data_path, label)\n",
        "        for filename in os.listdir(class_folder):\n",
        "            filepath = os.path.join(class_folder, filename)\n",
        "            img = load_img(filepath, target_size=(128, 128))  # Resize images\n",
        "            img_array = img_to_array(img)\n",
        "            images.append(img_array.flatten())\n",
        "            labels.append(label_dict[label])  # Use integer index for labels\n",
        "    return np.array(images), np.array(labels), label_names\n",
        "\n",
        "images, labels, label_names = load_images(base_path)\n",
        "\n",
        "# Preprocessing: flatten images and normalize pixel values\n",
        "X_train = images.reshape(-1, 128*128*3) / 255.0  # Normalize and flatten images\n",
        "\n",
        "# Determine the sampling strategy dynamically\n",
        "original_distribution = collections.Counter(labels)\n",
        "sampling_strategy = {label_idx: 600 for label_idx, count in original_distribution.items() if count < 600}\n",
        "\n",
        "# Define SMOTE with the specific strategy\n",
        "smote = SMOTE(sampling_strategy=sampling_strategy, random_state=42)\n",
        "\n",
        "# Apply SMOTE\n",
        "X_resampled, y_resampled = smote.fit_resample(X_train, labels)\n",
        "X_resampled_reshaped = X_resampled.reshape(-1, 128, 128, 3)\n",
        "\n",
        "# Function to save synthetic images\n",
        "def save_images(images, labels, label_names, save_dir=\"/content/gdrive/MyDrive/Classes_SMOTE2\"):\n",
        "    if not os.path.exists(save_dir):\n",
        "        os.makedirs(save_dir)\n",
        "    for idx, img_array in enumerate(images):\n",
        "        label_index = labels[idx]\n",
        "        label_folder = os.path.join(save_dir, label_names[label_index])\n",
        "        if not os.path.exists(label_folder):\n",
        "            os.makedirs(label_folder)\n",
        "        img = Image.fromarray((img_array * 255).astype(np.uint8))\n",
        "        img.save(os.path.join(label_folder, f\"smote_{idx}.jpg\"))\n",
        "\n",
        "# Save synthetic images\n",
        "save_images(X_resampled_reshaped, y_resampled, label_names, \"/content/gdrive/MyDrive/Classes_SMOTE2\")\n"
      ]
    },
    {
      "cell_type": "markdown",
      "source": [
        "**Count of images**"
      ],
      "metadata": {
        "id": "JiVfMnvlKK5p"
      }
    },
    {
      "cell_type": "code",
      "source": [
        "base_path = '/content/gdrive/MyDrive/Classes_SMOTE2'\n",
        "import os\n",
        "\n",
        "def count_images_by_folder(base_path):\n",
        "    folder_counts = {}\n",
        "    # Check each folder in the base directory\n",
        "    for folder in os.listdir(base_path):\n",
        "        folder_path = os.path.join(base_path, folder)\n",
        "        if os.path.isdir(folder_path):  # Make sure it's a directory\n",
        "            image_files = [file for file in os.listdir(folder_path)\n",
        "                           if file.lower().endswith(('.png', '.jpg', '.jpeg', '.bmp', '.gif', '.tiff'))]\n",
        "            folder_counts[folder] = len(image_files)\n",
        "    return folder_counts\n",
        "\n",
        "# Run the function and print the results\n",
        "image_counts = count_images_by_folder(base_path)\n",
        "for folder, count in image_counts.items():\n",
        "    print(f\"There are {count} image files in the '{folder}' folder.\")\n"
      ],
      "metadata": {
        "colab": {
          "base_uri": "https://localhost:8080/"
        },
        "id": "K51yPYG3_QQg",
        "outputId": "c7b93d95-d79e-4671-b9c2-22d89cb59541"
      },
      "execution_count": null,
      "outputs": [
        {
          "output_type": "stream",
          "name": "stdout",
          "text": [
            "There are 600 image files in the 'ROI_chickenpox' folder.\n",
            "There are 871 image files in the 'ROI_psoriasis' folder.\n",
            "There are 600 image files in the 'ROI_monkeypox' folder.\n",
            "There are 600 image files in the 'ROI_measles' folder.\n",
            "There are 600 image files in the 'ROI_hives' folder.\n",
            "There are 645 image files in the 'ROI_eczema' folder.\n",
            "There are 600 image files in the 'ROI_dermatitis' folder.\n",
            "There are 600 image files in the 'ROI_bullous' folder.\n",
            "There are 637 image files in the 'ROI_acne' folder.\n",
            "There are 600 image files in the 'Normal' folder.\n"
          ]
        }
      ]
    }
  ]
}